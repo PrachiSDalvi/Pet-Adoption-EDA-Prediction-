{
 "cells": [
  {
   "cell_type": "markdown",
   "id": "87f2dbc5-a8f7-442a-a577-872fb5b1b910",
   "metadata": {},
   "source": [
    "# Pet-Adoption Prediction Analysis\n",
    "***\n",
    "\n",
    "## Type of Final Project\n",
    "Analysis of a dataset of interest\n",
    "\n",
    "PetFinder.my has been Malaysia's leading animal welfare platform since 2008, with a database of more than 150,000 animals. PetFinder collaborates closely with animal lovers, media, corporations, and global organizations to improve animal welfare. Animal adoption rates are strongly correlated to the metadata associated with their online profiles, such as descriptive text and photo characteristics.\n",
    "\n",
    "In this project, I am analyzing the data to visualize and predict the speed at which a pet is adopted, based on the pet's listing on PetFinder. Also, to analyze if the rate of adoption is dependent on any particular variable like the breed, age, type, sterilization etc.\n",
    "\n",
    "\n",
    "## Data Needs and Sources\n",
    "The data is downloaded from a Kaggle competition and it is available at https://www.kaggle.com/c/petfinder-adoption-prediction/data . Currently the data has about ~14000 records in Training dataset and ~3500 in testing dataset with over 300 breeds of pets(cats and dogs)\n",
    "\n",
    "The data available on the kaggle site is downloaded in 'petfinder-adoption-prediction' folder. I have done all the EDA in the using R in file 'Pet_Adoption_Analysis.Rmd' and have did a small part of image reading by different variable and word cloud(just to understand how it works) in python in file 'Pet_Image_Reading.ipynb' file.\n",
    "\n",
    "We can start with the [Pet_Adoption_Analysis.html](./Pet_Adoption_Analysis.html) and [Pet_Adoption_Analysis.Rmd](./Pet_Adoption_Analysis.Rmd) which contains reading and understanding the data, followed by analysis of adoption speed based on different variables. \n",
    "\n",
    "we will then continue with the python file [Pet_Adoption_Prediction.ipynb](Pet_Adoption_Prediction.ipynb) to view and analyse the image, wordcloud view to visualize  top words or names used in our data for the pets and finally the prediction of the adoption speed of the pets in the test file provided.\n",
    "The prediction adoption speed is written to the [Test_AdoptionSpeed_Prediction.csv](./Test_AdoptionSpeed_Prediction.csv) file.\n",
    "\n",
    "\n"
   ]
  },
  {
   "cell_type": "code",
   "execution_count": null,
   "id": "2fc89ace-b16e-4340-8cdc-676f86a0e43b",
   "metadata": {},
   "outputs": [],
   "source": []
  }
 ],
 "metadata": {
  "kernelspec": {
   "display_name": "Python 3 (ipykernel)",
   "language": "python",
   "name": "python3"
  },
  "language_info": {
   "codemirror_mode": {
    "name": "ipython",
    "version": 3
   },
   "file_extension": ".py",
   "mimetype": "text/x-python",
   "name": "python",
   "nbconvert_exporter": "python",
   "pygments_lexer": "ipython3",
   "version": "3.9.7"
  }
 },
 "nbformat": 4,
 "nbformat_minor": 5
}
